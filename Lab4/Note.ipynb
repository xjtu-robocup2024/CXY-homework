{
 "cells": [
  {
   "cell_type": "code",
   "execution_count": 14,
   "metadata": {},
   "outputs": [],
   "source": [
    "import torch\n",
    "import torchvision\n",
    "import torchvision.transforms as transforms"
   ]
  },
  {
   "cell_type": "markdown",
   "metadata": {},
   "source": [
    "#### 设置超参数"
   ]
  },
  {
   "cell_type": "code",
   "execution_count": 15,
   "metadata": {},
   "outputs": [],
   "source": [
    "n_epochs = 5 \n",
    "log_interval = 30\n",
    "DEVICE = torch.device(\"cuda\" if torch.cuda.is_available() else \"cpu\") \n",
    "size = 32 # 对输入图片进行处理，拉伸为32*32的图片\n",
    "learn_rate = 0.03 # 学习率\n",
    "momentum = 0.1  # 动量"
   ]
  },
  {
   "cell_type": "markdown",
   "metadata": {},
   "source": [
    "#### 加载数据集"
   ]
  },
  {
   "cell_type": "code",
   "execution_count": 16,
   "metadata": {},
   "outputs": [],
   "source": [
    "from torchvision.datasets import MNIST\n",
    "\n",
    "transform = transforms.Compose(\n",
    "    [transforms.Resize(size), transforms.ToTensor(),\n",
    "     transforms.Normalize((0.5), (0.5))]) # 正则化处理，相当于z-score\n",
    "\n",
    "trainset = MNIST(root = './', train=True, download=True, transform=transform)\n",
    "trainloader = torch.utils.data.DataLoader(trainset, batch_size=64, shuffle=True, num_workers=2)\n",
    "\n",
    "testset = MNIST(root = './', train=False, download=True, transform=transform)\n",
    "testloader = torch.utils.data.DataLoader(testset, batch_size=1000, shuffle=True, num_workers=2)"
   ]
  },
  {
   "cell_type": "markdown",
   "metadata": {},
   "source": [
    "#### 设计LeNet-5网络\n",
    "*咱也啥都不懂，代码CSDN上找的*"
   ]
  },
  {
   "cell_type": "code",
   "execution_count": 17,
   "metadata": {},
   "outputs": [],
   "source": [
    "import torch.nn as nn\n",
    "import torch.nn.functional as F\n",
    "import torch.optim as optim\n",
    "\n",
    "class Net(nn.Module):\n",
    "    def __init__(self):\n",
    "        super(Net, self).__init__()\n",
    "        self.conv1 = nn.Conv2d(1, 6, kernel_size=5, stride=1, padding=0, bias=True) # C1层使用单通道，6深度的卷积核，卷积核大小为5\n",
    "        self.max_pool_1 = nn.MaxPool2d(2)  # maxpooling从28降到14个像素点，故采用大小为2最大池化\n",
    "        self.conv2 = nn.Conv2d(6, 16, kernel_size=5, stride=1, padding=0, bias=True) # 第二次卷积\n",
    "        self.max_pool_2 = nn.MaxPool2d(2) # 第二次maxpooling\n",
    "        self.conv3 = nn.Conv2d(16, 120, kernel_size=5, stride=1, padding=0, bias=F) #第三次卷积，得到120张大小为1的“图像”\n",
    "        \n",
    "        self.fc1 = nn.Linear(120,84) # 全连接层\n",
    "        self.fc2 = nn.Linear(84,10) # 全连接层\n",
    "\n",
    "    def forward(self, x):\n",
    "        # print(\"0:\"+ str(x.size())) # 输出tensor大小\n",
    "        x = F.relu(self.conv1(x)) # 用激活函数处理卷积结果，激活函数结果再在下一步做maxpooling\n",
    "        x = self.max_pool_1(x)\n",
    "        # print(\"1:\"+ str(x.size()))\n",
    "        x = F.relu(self.conv2(x)) # 同上\n",
    "        x = self.max_pool_2(x)\n",
    "        # print(\"2:\"+ str(x.size()))\n",
    "        \n",
    "        \n",
    "        x = F.relu(self.conv3(x))\n",
    "        # print(\"3:\"+ str(x.size()))\n",
    "        # x = F.dropout(x, training=self.training)\n",
    "        x = x.view(-1, 120) # 把120张大小为1的图像当成一个长度为120的一维tensor\n",
    "        x = F.relu(self.fc1(x))\n",
    "        x = F.relu(self.fc2(x))\n",
    "        return F.log_softmax(x)"
   ]
  },
  {
   "cell_type": "markdown",
   "metadata": {},
   "source": [
    "#### 实例化神经网络"
   ]
  },
  {
   "cell_type": "code",
   "execution_count": 18,
   "metadata": {},
   "outputs": [],
   "source": [
    "network = Net().to(DEVICE)\n",
    "optimizer = optim.SGD(network.parameters(), lr = learn_rate, momentum=momentum) # 学习率，动量"
   ]
  },
  {
   "cell_type": "markdown",
   "metadata": {},
   "source": [
    "#### 设置需要输出参数的存储变量"
   ]
  },
  {
   "cell_type": "code",
   "execution_count": 19,
   "metadata": {},
   "outputs": [],
   "source": [
    "train_losses = []\n",
    "train_counter = []\n",
    "test_losses = []\n",
    "test_counter = [i*len(trainloader.dataset) for i in range(n_epochs + 1)] #test_losses为横坐标，test_losses为纵坐标\n",
    "test_acc = []"
   ]
  },
  {
   "cell_type": "markdown",
   "metadata": {},
   "source": [
    "#### 定义训练参数"
   ]
  },
  {
   "cell_type": "code",
   "execution_count": 20,
   "metadata": {},
   "outputs": [],
   "source": [
    "def train(epoch, device):\n",
    "  network.train() # 调用上一步实例化对象network中的方法（该方法包内已经写好）\n",
    "  for batch_idx, (data, target) in enumerate(trainloader): # 按batch_size为集合对象进行逐个处理\n",
    "    data, target = data.to(device), target.to(device) # data是图片，target是标签，device是为了有GPU情况下使用GPU加速\n",
    "    optimizer.zero_grad() # 开始进行BP之前将梯度设置为零，因为PyTorch会在随后的BP中累积梯度\n",
    "    output = network(data) \n",
    "    loss = F.nll_loss(output, target) # 函数全称是negative log likelihood loss，下面博客有详细解释\n",
    "    loss.backward() # 根据误差进行BP\n",
    "    optimizer.step()\n",
    "    if batch_idx % log_interval == 0: # 控制输出频率\n",
    "      print('Train Epoch: {} [{}/{} ({:.0f}%)]\\tLoss: {:.6f}'.format(\n",
    "        epoch, batch_idx * len(data), len(trainloader.dataset),\n",
    "        100. * batch_idx / len(trainloader), loss.item()))\n",
    "      train_losses.append(loss.item()) # 记录并储存train loss\n",
    "      train_counter.append(\n",
    "        (batch_idx*64) + ((epoch-1)*len(trainloader.dataset)))"
   ]
  },
  {
   "cell_type": "markdown",
   "metadata": {},
   "source": [
    "#### 定义测试函数"
   ]
  },
  {
   "cell_type": "code",
   "execution_count": 21,
   "metadata": {},
   "outputs": [],
   "source": [
    "def test(device):\n",
    "  network.eval()\n",
    "  test_loss = 0\n",
    "  correct = 0\n",
    "  with torch.no_grad():\n",
    "    for data, target in testloader:\n",
    "      data, target = data.to(device), target.to(device)\n",
    "      output = network(data)\n",
    "      test_loss += F.nll_loss(output, target, size_average=False).item()\n",
    "      pred = output.data.max(1, keepdim=True)[1] # 找到概率最大的下标，为预测类别\n",
    "      correct += pred.eq(target.data.view_as(pred)).sum() # x下面都是记录数据用于绘图，不再解释\n",
    "  test_loss /= len(testloader.dataset)\n",
    "  test_losses.append(test_loss)\n",
    "  print('\\nTest set: Avg. loss: {:.4f}, Accuracy: {}/{} ({:.0f}%)\\n'.format(\n",
    "    test_loss, correct, len(testloader.dataset),\n",
    "    100. * correct / len(testloader.dataset)))\n",
    "  test_acc.append(correct / len(testloader.dataset))"
   ]
  },
  {
   "cell_type": "markdown",
   "metadata": {},
   "source": [
    "#### 训练模型，绘制图像"
   ]
  },
  {
   "cell_type": "code",
   "execution_count": 22,
   "metadata": {},
   "outputs": [
    {
     "name": "stderr",
     "output_type": "stream",
     "text": [
      "C:\\Users\\Admin\\AppData\\Local\\Temp\\ipykernel_31092\\3532451503.py:33: UserWarning: Implicit dimension choice for log_softmax has been deprecated. Change the call to include dim=X as an argument.\n",
      "  return F.log_softmax(x)\n",
      "c:\\Users\\Admin\\anaconda3\\Lib\\site-packages\\torch\\nn\\_reduction.py:51: UserWarning: size_average and reduce args will be deprecated, please use reduction='sum' instead.\n",
      "  warnings.warn(warning.format(ret))\n"
     ]
    },
    {
     "name": "stdout",
     "output_type": "stream",
     "text": [
      "\n",
      "Test set: Avg. loss: 2.3040, Accuracy: 1146/10000 (11%)\n",
      "\n",
      "Train Epoch: 1 [0/60000 (0%)]\tLoss: 2.311926\n",
      "Train Epoch: 1 [1920/60000 (3%)]\tLoss: 2.296865\n",
      "Train Epoch: 1 [3840/60000 (6%)]\tLoss: 2.299838\n",
      "Train Epoch: 1 [5760/60000 (10%)]\tLoss: 2.292975\n",
      "Train Epoch: 1 [7680/60000 (13%)]\tLoss: 2.290861\n",
      "Train Epoch: 1 [9600/60000 (16%)]\tLoss: 2.285784\n",
      "Train Epoch: 1 [11520/60000 (19%)]\tLoss: 2.273038\n",
      "Train Epoch: 1 [13440/60000 (22%)]\tLoss: 2.250086\n",
      "Train Epoch: 1 [15360/60000 (26%)]\tLoss: 2.244963\n",
      "Train Epoch: 1 [17280/60000 (29%)]\tLoss: 2.162446\n",
      "Train Epoch: 1 [19200/60000 (32%)]\tLoss: 2.025687\n",
      "Train Epoch: 1 [21120/60000 (35%)]\tLoss: 1.923427\n",
      "Train Epoch: 1 [23040/60000 (38%)]\tLoss: 1.614430\n",
      "Train Epoch: 1 [24960/60000 (42%)]\tLoss: 1.622141\n",
      "Train Epoch: 1 [26880/60000 (45%)]\tLoss: 1.391209\n",
      "Train Epoch: 1 [28800/60000 (48%)]\tLoss: 1.456099\n",
      "Train Epoch: 1 [30720/60000 (51%)]\tLoss: 1.338546\n",
      "Train Epoch: 1 [32640/60000 (54%)]\tLoss: 1.440631\n",
      "Train Epoch: 1 [34560/60000 (58%)]\tLoss: 1.128309\n",
      "Train Epoch: 1 [36480/60000 (61%)]\tLoss: 1.471246\n",
      "Train Epoch: 1 [38400/60000 (64%)]\tLoss: 1.012767\n",
      "Train Epoch: 1 [40320/60000 (67%)]\tLoss: 1.299284\n",
      "Train Epoch: 1 [42240/60000 (70%)]\tLoss: 1.352774\n",
      "Train Epoch: 1 [44160/60000 (74%)]\tLoss: 1.317450\n",
      "Train Epoch: 1 [46080/60000 (77%)]\tLoss: 0.980068\n",
      "Train Epoch: 1 [48000/60000 (80%)]\tLoss: 1.098869\n",
      "Train Epoch: 1 [49920/60000 (83%)]\tLoss: 1.114613\n",
      "Train Epoch: 1 [51840/60000 (86%)]\tLoss: 1.127711\n",
      "Train Epoch: 1 [53760/60000 (90%)]\tLoss: 0.964177\n",
      "Train Epoch: 1 [55680/60000 (93%)]\tLoss: 0.963486\n",
      "Train Epoch: 1 [57600/60000 (96%)]\tLoss: 0.789229\n",
      "Train Epoch: 1 [59520/60000 (99%)]\tLoss: 1.376118\n",
      "\n",
      "Test set: Avg. loss: 1.0547, Accuracy: 5770/10000 (58%)\n",
      "\n",
      "Train Epoch: 2 [0/60000 (0%)]\tLoss: 0.687837\n",
      "Train Epoch: 2 [1920/60000 (3%)]\tLoss: 1.133930\n",
      "Train Epoch: 2 [3840/60000 (6%)]\tLoss: 1.004366\n",
      "Train Epoch: 2 [5760/60000 (10%)]\tLoss: 1.227449\n",
      "Train Epoch: 2 [7680/60000 (13%)]\tLoss: 0.969179\n",
      "Train Epoch: 2 [9600/60000 (16%)]\tLoss: 1.175912\n",
      "Train Epoch: 2 [11520/60000 (19%)]\tLoss: 1.082008\n",
      "Train Epoch: 2 [13440/60000 (22%)]\tLoss: 1.262080\n",
      "Train Epoch: 2 [15360/60000 (26%)]\tLoss: 1.072359\n",
      "Train Epoch: 2 [17280/60000 (29%)]\tLoss: 0.956787\n",
      "Train Epoch: 2 [19200/60000 (32%)]\tLoss: 1.127502\n",
      "Train Epoch: 2 [21120/60000 (35%)]\tLoss: 0.886461\n",
      "Train Epoch: 2 [23040/60000 (38%)]\tLoss: 0.990340\n",
      "Train Epoch: 2 [24960/60000 (42%)]\tLoss: 1.200953\n",
      "Train Epoch: 2 [26880/60000 (45%)]\tLoss: 1.143278\n",
      "Train Epoch: 2 [28800/60000 (48%)]\tLoss: 1.235670\n",
      "Train Epoch: 2 [30720/60000 (51%)]\tLoss: 0.888397\n",
      "Train Epoch: 2 [32640/60000 (54%)]\tLoss: 0.877079\n",
      "Train Epoch: 2 [34560/60000 (58%)]\tLoss: 1.060434\n",
      "Train Epoch: 2 [36480/60000 (61%)]\tLoss: 0.915340\n",
      "Train Epoch: 2 [38400/60000 (64%)]\tLoss: 1.087329\n",
      "Train Epoch: 2 [40320/60000 (67%)]\tLoss: 0.964618\n",
      "Train Epoch: 2 [42240/60000 (70%)]\tLoss: 1.006527\n",
      "Train Epoch: 2 [44160/60000 (74%)]\tLoss: 1.099491\n",
      "Train Epoch: 2 [46080/60000 (77%)]\tLoss: 0.772522\n",
      "Train Epoch: 2 [48000/60000 (80%)]\tLoss: 0.988913\n",
      "Train Epoch: 2 [49920/60000 (83%)]\tLoss: 1.176682\n",
      "Train Epoch: 2 [51840/60000 (86%)]\tLoss: 1.116900\n",
      "Train Epoch: 2 [53760/60000 (90%)]\tLoss: 0.856096\n",
      "Train Epoch: 2 [55680/60000 (93%)]\tLoss: 1.148140\n",
      "Train Epoch: 2 [57600/60000 (96%)]\tLoss: 0.811395\n",
      "Train Epoch: 2 [59520/60000 (99%)]\tLoss: 0.923603\n",
      "\n",
      "Test set: Avg. loss: 0.9899, Accuracy: 5892/10000 (59%)\n",
      "\n",
      "Train Epoch: 3 [0/60000 (0%)]\tLoss: 0.838647\n",
      "Train Epoch: 3 [1920/60000 (3%)]\tLoss: 1.181937\n",
      "Train Epoch: 3 [3840/60000 (6%)]\tLoss: 1.102622\n",
      "Train Epoch: 3 [5760/60000 (10%)]\tLoss: 1.141401\n",
      "Train Epoch: 3 [7680/60000 (13%)]\tLoss: 1.071763\n",
      "Train Epoch: 3 [9600/60000 (16%)]\tLoss: 0.922231\n",
      "Train Epoch: 3 [11520/60000 (19%)]\tLoss: 1.243074\n",
      "Train Epoch: 3 [13440/60000 (22%)]\tLoss: 1.129089\n",
      "Train Epoch: 3 [15360/60000 (26%)]\tLoss: 0.622442\n",
      "Train Epoch: 3 [17280/60000 (29%)]\tLoss: 1.045042\n",
      "Train Epoch: 3 [19200/60000 (32%)]\tLoss: 1.056729\n",
      "Train Epoch: 3 [21120/60000 (35%)]\tLoss: 0.766578\n",
      "Train Epoch: 3 [23040/60000 (38%)]\tLoss: 0.922620\n",
      "Train Epoch: 3 [24960/60000 (42%)]\tLoss: 0.779166\n",
      "Train Epoch: 3 [26880/60000 (45%)]\tLoss: 0.928786\n",
      "Train Epoch: 3 [28800/60000 (48%)]\tLoss: 0.817539\n",
      "Train Epoch: 3 [30720/60000 (51%)]\tLoss: 0.940720\n",
      "Train Epoch: 3 [32640/60000 (54%)]\tLoss: 0.937514\n",
      "Train Epoch: 3 [34560/60000 (58%)]\tLoss: 1.054046\n",
      "Train Epoch: 3 [36480/60000 (61%)]\tLoss: 0.905052\n",
      "Train Epoch: 3 [38400/60000 (64%)]\tLoss: 1.054226\n",
      "Train Epoch: 3 [40320/60000 (67%)]\tLoss: 0.813114\n",
      "Train Epoch: 3 [42240/60000 (70%)]\tLoss: 1.132046\n",
      "Train Epoch: 3 [44160/60000 (74%)]\tLoss: 1.016400\n",
      "Train Epoch: 3 [46080/60000 (77%)]\tLoss: 1.018413\n",
      "Train Epoch: 3 [48000/60000 (80%)]\tLoss: 0.925130\n",
      "Train Epoch: 3 [49920/60000 (83%)]\tLoss: 1.061973\n",
      "Train Epoch: 3 [51840/60000 (86%)]\tLoss: 0.932218\n",
      "Train Epoch: 3 [53760/60000 (90%)]\tLoss: 0.918019\n",
      "Train Epoch: 3 [55680/60000 (93%)]\tLoss: 0.812303\n",
      "Train Epoch: 3 [57600/60000 (96%)]\tLoss: 0.768862\n",
      "Train Epoch: 3 [59520/60000 (99%)]\tLoss: 1.038655\n",
      "\n",
      "Test set: Avg. loss: 0.9751, Accuracy: 5898/10000 (59%)\n",
      "\n",
      "Train Epoch: 4 [0/60000 (0%)]\tLoss: 1.189953\n",
      "Train Epoch: 4 [1920/60000 (3%)]\tLoss: 0.917540\n",
      "Train Epoch: 4 [3840/60000 (6%)]\tLoss: 0.947928\n",
      "Train Epoch: 4 [5760/60000 (10%)]\tLoss: 1.139290\n",
      "Train Epoch: 4 [7680/60000 (13%)]\tLoss: 1.133374\n",
      "Train Epoch: 4 [9600/60000 (16%)]\tLoss: 0.622802\n",
      "Train Epoch: 4 [11520/60000 (19%)]\tLoss: 1.050586\n",
      "Train Epoch: 4 [13440/60000 (22%)]\tLoss: 0.655557\n",
      "Train Epoch: 4 [15360/60000 (26%)]\tLoss: 1.229068\n",
      "Train Epoch: 4 [17280/60000 (29%)]\tLoss: 0.905828\n",
      "Train Epoch: 4 [19200/60000 (32%)]\tLoss: 0.784230\n",
      "Train Epoch: 4 [21120/60000 (35%)]\tLoss: 0.832085\n",
      "Train Epoch: 4 [23040/60000 (38%)]\tLoss: 0.788697\n",
      "Train Epoch: 4 [24960/60000 (42%)]\tLoss: 0.885296\n",
      "Train Epoch: 4 [26880/60000 (45%)]\tLoss: 1.019693\n",
      "Train Epoch: 4 [28800/60000 (48%)]\tLoss: 0.968638\n",
      "Train Epoch: 4 [30720/60000 (51%)]\tLoss: 1.302291\n",
      "Train Epoch: 4 [32640/60000 (54%)]\tLoss: 1.022450\n",
      "Train Epoch: 4 [34560/60000 (58%)]\tLoss: 1.063848\n",
      "Train Epoch: 4 [36480/60000 (61%)]\tLoss: 1.131530\n",
      "Train Epoch: 4 [38400/60000 (64%)]\tLoss: 0.833251\n",
      "Train Epoch: 4 [40320/60000 (67%)]\tLoss: 0.987667\n",
      "Train Epoch: 4 [42240/60000 (70%)]\tLoss: 0.762623\n",
      "Train Epoch: 4 [44160/60000 (74%)]\tLoss: 0.879394\n",
      "Train Epoch: 4 [46080/60000 (77%)]\tLoss: 0.751964\n",
      "Train Epoch: 4 [48000/60000 (80%)]\tLoss: 0.520892\n",
      "Train Epoch: 4 [49920/60000 (83%)]\tLoss: 0.913237\n",
      "Train Epoch: 4 [51840/60000 (86%)]\tLoss: 0.900506\n",
      "Train Epoch: 4 [53760/60000 (90%)]\tLoss: 0.717042\n",
      "Train Epoch: 4 [55680/60000 (93%)]\tLoss: 0.938507\n",
      "Train Epoch: 4 [57600/60000 (96%)]\tLoss: 1.109970\n",
      "Train Epoch: 4 [59520/60000 (99%)]\tLoss: 0.729380\n",
      "\n",
      "Test set: Avg. loss: 0.7576, Accuracy: 6829/10000 (68%)\n",
      "\n",
      "Train Epoch: 5 [0/60000 (0%)]\tLoss: 0.947544\n",
      "Train Epoch: 5 [1920/60000 (3%)]\tLoss: 0.520481\n",
      "Train Epoch: 5 [3840/60000 (6%)]\tLoss: 0.843349\n",
      "Train Epoch: 5 [5760/60000 (10%)]\tLoss: 0.640239\n",
      "Train Epoch: 5 [7680/60000 (13%)]\tLoss: 0.564724\n",
      "Train Epoch: 5 [9600/60000 (16%)]\tLoss: 0.797187\n",
      "Train Epoch: 5 [11520/60000 (19%)]\tLoss: 0.858736\n",
      "Train Epoch: 5 [13440/60000 (22%)]\tLoss: 0.860126\n",
      "Train Epoch: 5 [15360/60000 (26%)]\tLoss: 1.103530\n",
      "Train Epoch: 5 [17280/60000 (29%)]\tLoss: 0.823428\n",
      "Train Epoch: 5 [19200/60000 (32%)]\tLoss: 0.757345\n",
      "Train Epoch: 5 [21120/60000 (35%)]\tLoss: 0.950525\n",
      "Train Epoch: 5 [23040/60000 (38%)]\tLoss: 0.969979\n",
      "Train Epoch: 5 [24960/60000 (42%)]\tLoss: 1.043850\n",
      "Train Epoch: 5 [26880/60000 (45%)]\tLoss: 0.625472\n",
      "Train Epoch: 5 [28800/60000 (48%)]\tLoss: 0.884913\n",
      "Train Epoch: 5 [30720/60000 (51%)]\tLoss: 0.760937\n",
      "Train Epoch: 5 [32640/60000 (54%)]\tLoss: 0.878139\n",
      "Train Epoch: 5 [34560/60000 (58%)]\tLoss: 0.770730\n",
      "Train Epoch: 5 [36480/60000 (61%)]\tLoss: 0.775137\n",
      "Train Epoch: 5 [38400/60000 (64%)]\tLoss: 1.015608\n",
      "Train Epoch: 5 [40320/60000 (67%)]\tLoss: 0.760950\n",
      "Train Epoch: 5 [42240/60000 (70%)]\tLoss: 0.780197\n",
      "Train Epoch: 5 [44160/60000 (74%)]\tLoss: 0.693733\n",
      "Train Epoch: 5 [46080/60000 (77%)]\tLoss: 0.868403\n",
      "Train Epoch: 5 [48000/60000 (80%)]\tLoss: 0.714663\n",
      "Train Epoch: 5 [49920/60000 (83%)]\tLoss: 0.553113\n",
      "Train Epoch: 5 [51840/60000 (86%)]\tLoss: 0.850616\n",
      "Train Epoch: 5 [53760/60000 (90%)]\tLoss: 0.815572\n",
      "Train Epoch: 5 [55680/60000 (93%)]\tLoss: 0.867046\n",
      "Train Epoch: 5 [57600/60000 (96%)]\tLoss: 0.693852\n",
      "Train Epoch: 5 [59520/60000 (99%)]\tLoss: 0.731338\n",
      "\n",
      "Test set: Avg. loss: 0.7798, Accuracy: 6808/10000 (68%)\n",
      "\n"
     ]
    },
    {
     "data": {
      "image/png": "[encoded data removed]",
      "text/plain": [
       "<Figure size 640x480 with 1 Axes>"
      ]
     },
     "metadata": {},
     "output_type": "display_data"
    }
   ],
   "source": [
    "test(DEVICE)\n",
    "for epoch in range(1, n_epochs + 1):\n",
    "  train(epoch, DEVICE)\n",
    "  test(DEVICE)\n",
    "import matplotlib.pyplot as plt\n",
    "fig = plt.figure()\n",
    "plt.plot(train_counter, train_losses, color='blue') # train_losses变化曲线\n",
    "plt.scatter(test_counter, test_losses, color='red') # test集loss散点图\n",
    "plt.legend(['Train Loss', 'Test Loss'], loc='upper right')\n",
    "plt.xlabel('number of training examples seen')\n",
    "plt.ylabel('negative log likelihood loss and test accuarcy')\n",
    "plt.show()"
   ]
  },
  {
   "cell_type": "code",
   "execution_count": 23,
   "metadata": {},
   "outputs": [
    {
     "name": "stderr",
     "output_type": "stream",
     "text": [
      "C:\\Users\\Admin\\AppData\\Local\\Temp\\ipykernel_31092\\3532451503.py:33: UserWarning: Implicit dimension choice for log_softmax has been deprecated. Change the call to include dim=X as an argument.\n",
      "  return F.log_softmax(x)\n"
     ]
    },
    {
     "data": {
      "image/png": "[encoded data removed]",
      "text/plain": [
       "<Figure size 640x480 with 6 Axes>"
      ]
     },
     "metadata": {},
     "output_type": "display_data"
    }
   ],
   "source": [
    "examples = enumerate(testloader)\n",
    "batch_idx, (example_data, example_targets) = next(examples)\n",
    "with torch.no_grad():\n",
    "  example_data, example_targets = example_data.to(DEVICE), example_targets.to(DEVICE)\n",
    "  output = network(example_data)\n",
    "fig = plt.figure()\n",
    "for i in range(6):\n",
    "  plt.subplot(2,3,i+1)\n",
    "  plt.tight_layout()\n",
    "  plt.imshow(example_data[i][0].cpu().clone().numpy(), cmap='gray', interpolation='none')\n",
    "  plt.title(\"Prediction: {}\".format(\n",
    "    output.data.max(1, keepdim=True)[1][i].item()))\n",
    "  plt.xticks([])\n",
    "  plt.yticks([])\n",
    "plt.show()\n"
   ]
  }
 ],
 "metadata": {
  "kernelspec": {
   "display_name": "base",
   "language": "python",
   "name": "python3"
  },
  "language_info": {
   "codemirror_mode": {
    "name": "ipython",
    "version": 3
   },
   "file_extension": ".py",
   "mimetype": "text/x-python",
   "name": "python",
   "nbconvert_exporter": "python",
   "pygments_lexer": "ipython3",
   "version": "3.12.4"
  }
 },
 "nbformat": 4,
 "nbformat_minor": 2
}
